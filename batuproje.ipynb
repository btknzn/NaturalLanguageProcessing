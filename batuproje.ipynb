{
  "cells": [
    {
      "cell_type": "markdown",
      "metadata": {
        "id": "view-in-github",
        "colab_type": "text"
      },
      "source": [
        "<a href=\"https://colab.research.google.com/github/btknzn/NaturalLanguageProcessing/blob/main/batuproje.ipynb\" target=\"_parent\"><img src=\"https://colab.research.google.com/assets/colab-badge.svg\" alt=\"Open In Colab\"/></a>"
      ]
    },
    {
      "cell_type": "code",
      "execution_count": null,
      "metadata": {
        "colab": {
          "base_uri": "https://localhost:8080/"
        },
        "id": "uppPGtTuqbVa",
        "outputId": "e94b10b7-6867-4a9f-b25b-443a7dbd53bf"
      },
      "outputs": [
        {
          "output_type": "stream",
          "name": "stdout",
          "text": [
            "Drive already mounted at /content/drive; to attempt to forcibly remount, call drive.mount(\"/content/drive\", force_remount=True).\n"
          ]
        }
      ],
      "source": [
        "from google.colab import drive\n",
        "drive.mount('/content/drive')\n"
      ]
    },
    {
      "cell_type": "code",
      "execution_count": null,
      "metadata": {
        "colab": {
          "base_uri": "https://localhost:8080/"
        },
        "id": "1KfKhfkkhQc2",
        "outputId": "9bc0f413-9a5c-42af-cd41-ce606cced7c9"
      },
      "outputs": [
        {
          "output_type": "stream",
          "name": "stdout",
          "text": [
            "Collecting git+https://github.com/PyTorchLightning/pytorch-lightning\n",
            "  Cloning https://github.com/PyTorchLightning/pytorch-lightning to /tmp/pip-req-build-sa21r4dt\n",
            "  Running command git clone -q https://github.com/PyTorchLightning/pytorch-lightning /tmp/pip-req-build-sa21r4dt\n",
            "  Running command git submodule update --init --recursive -q\n",
            "  Installing build dependencies ... \u001b[?25l\u001b[?25hdone\n",
            "  Getting requirements to build wheel ... \u001b[?25l\u001b[?25hdone\n",
            "    Preparing wheel metadata ... \u001b[?25l\u001b[?25hdone\n",
            "Requirement already satisfied: fsspec[http]!=2021.06.0,>=2021.05.0 in /usr/local/lib/python3.7/dist-packages (from pytorch-lightning==1.6.0.dev0) (2022.1.0)\n",
            "Requirement already satisfied: torch>=1.7.* in /usr/local/lib/python3.7/dist-packages (from pytorch-lightning==1.6.0.dev0) (1.10.0+cu111)\n",
            "Requirement already satisfied: PyYAML>=5.4 in /usr/local/lib/python3.7/dist-packages (from pytorch-lightning==1.6.0.dev0) (6.0)\n",
            "Requirement already satisfied: torchmetrics>=0.4.1 in /usr/local/lib/python3.7/dist-packages (from pytorch-lightning==1.6.0.dev0) (0.7.0)\n",
            "Requirement already satisfied: numpy>=1.17.2 in /usr/local/lib/python3.7/dist-packages (from pytorch-lightning==1.6.0.dev0) (1.19.5)\n",
            "Requirement already satisfied: typing-extensions>=4.0.0 in /usr/local/lib/python3.7/dist-packages (from pytorch-lightning==1.6.0.dev0) (4.0.1)\n",
            "Requirement already satisfied: tensorboard>=2.2.0 in /usr/local/lib/python3.7/dist-packages (from pytorch-lightning==1.6.0.dev0) (2.7.0)\n",
            "Requirement already satisfied: pyDeprecate==0.3.1 in /usr/local/lib/python3.7/dist-packages (from pytorch-lightning==1.6.0.dev0) (0.3.1)\n",
            "Requirement already satisfied: tqdm>=4.41.0 in /usr/local/lib/python3.7/dist-packages (from pytorch-lightning==1.6.0.dev0) (4.62.3)\n",
            "Requirement already satisfied: packaging>=17.0 in /usr/local/lib/python3.7/dist-packages (from pytorch-lightning==1.6.0.dev0) (21.3)\n",
            "Requirement already satisfied: aiohttp in /usr/local/lib/python3.7/dist-packages (from fsspec[http]!=2021.06.0,>=2021.05.0->pytorch-lightning==1.6.0.dev0) (3.8.1)\n",
            "Requirement already satisfied: requests in /usr/local/lib/python3.7/dist-packages (from fsspec[http]!=2021.06.0,>=2021.05.0->pytorch-lightning==1.6.0.dev0) (2.23.0)\n",
            "Requirement already satisfied: pyparsing!=3.0.5,>=2.0.2 in /usr/local/lib/python3.7/dist-packages (from packaging>=17.0->pytorch-lightning==1.6.0.dev0) (3.0.7)\n",
            "Requirement already satisfied: grpcio>=1.24.3 in /usr/local/lib/python3.7/dist-packages (from tensorboard>=2.2.0->pytorch-lightning==1.6.0.dev0) (1.43.0)\n",
            "Requirement already satisfied: markdown>=2.6.8 in /usr/local/lib/python3.7/dist-packages (from tensorboard>=2.2.0->pytorch-lightning==1.6.0.dev0) (3.3.6)\n",
            "Requirement already satisfied: google-auth-oauthlib<0.5,>=0.4.1 in /usr/local/lib/python3.7/dist-packages (from tensorboard>=2.2.0->pytorch-lightning==1.6.0.dev0) (0.4.6)\n",
            "Requirement already satisfied: google-auth<3,>=1.6.3 in /usr/local/lib/python3.7/dist-packages (from tensorboard>=2.2.0->pytorch-lightning==1.6.0.dev0) (1.35.0)\n",
            "Requirement already satisfied: werkzeug>=0.11.15 in /usr/local/lib/python3.7/dist-packages (from tensorboard>=2.2.0->pytorch-lightning==1.6.0.dev0) (1.0.1)\n",
            "Requirement already satisfied: protobuf>=3.6.0 in /usr/local/lib/python3.7/dist-packages (from tensorboard>=2.2.0->pytorch-lightning==1.6.0.dev0) (3.17.3)\n",
            "Requirement already satisfied: tensorboard-plugin-wit>=1.6.0 in /usr/local/lib/python3.7/dist-packages (from tensorboard>=2.2.0->pytorch-lightning==1.6.0.dev0) (1.8.1)\n",
            "Requirement already satisfied: tensorboard-data-server<0.7.0,>=0.6.0 in /usr/local/lib/python3.7/dist-packages (from tensorboard>=2.2.0->pytorch-lightning==1.6.0.dev0) (0.6.1)\n",
            "Requirement already satisfied: wheel>=0.26 in /usr/local/lib/python3.7/dist-packages (from tensorboard>=2.2.0->pytorch-lightning==1.6.0.dev0) (0.37.1)\n",
            "Requirement already satisfied: absl-py>=0.4 in /usr/local/lib/python3.7/dist-packages (from tensorboard>=2.2.0->pytorch-lightning==1.6.0.dev0) (1.0.0)\n",
            "Requirement already satisfied: setuptools>=41.0.0 in /usr/local/lib/python3.7/dist-packages (from tensorboard>=2.2.0->pytorch-lightning==1.6.0.dev0) (57.4.0)\n",
            "Requirement already satisfied: six in /usr/local/lib/python3.7/dist-packages (from absl-py>=0.4->tensorboard>=2.2.0->pytorch-lightning==1.6.0.dev0) (1.15.0)\n",
            "Requirement already satisfied: cachetools<5.0,>=2.0.0 in /usr/local/lib/python3.7/dist-packages (from google-auth<3,>=1.6.3->tensorboard>=2.2.0->pytorch-lightning==1.6.0.dev0) (4.2.4)\n",
            "Requirement already satisfied: pyasn1-modules>=0.2.1 in /usr/local/lib/python3.7/dist-packages (from google-auth<3,>=1.6.3->tensorboard>=2.2.0->pytorch-lightning==1.6.0.dev0) (0.2.8)\n",
            "Requirement already satisfied: rsa<5,>=3.1.4 in /usr/local/lib/python3.7/dist-packages (from google-auth<3,>=1.6.3->tensorboard>=2.2.0->pytorch-lightning==1.6.0.dev0) (4.8)\n",
            "Requirement already satisfied: requests-oauthlib>=0.7.0 in /usr/local/lib/python3.7/dist-packages (from google-auth-oauthlib<0.5,>=0.4.1->tensorboard>=2.2.0->pytorch-lightning==1.6.0.dev0) (1.3.0)\n",
            "Requirement already satisfied: importlib-metadata>=4.4 in /usr/local/lib/python3.7/dist-packages (from markdown>=2.6.8->tensorboard>=2.2.0->pytorch-lightning==1.6.0.dev0) (4.10.1)\n",
            "Requirement already satisfied: zipp>=0.5 in /usr/local/lib/python3.7/dist-packages (from importlib-metadata>=4.4->markdown>=2.6.8->tensorboard>=2.2.0->pytorch-lightning==1.6.0.dev0) (3.7.0)\n",
            "Requirement already satisfied: pyasn1<0.5.0,>=0.4.6 in /usr/local/lib/python3.7/dist-packages (from pyasn1-modules>=0.2.1->google-auth<3,>=1.6.3->tensorboard>=2.2.0->pytorch-lightning==1.6.0.dev0) (0.4.8)\n",
            "Requirement already satisfied: urllib3!=1.25.0,!=1.25.1,<1.26,>=1.21.1 in /usr/local/lib/python3.7/dist-packages (from requests->fsspec[http]!=2021.06.0,>=2021.05.0->pytorch-lightning==1.6.0.dev0) (1.24.3)\n",
            "Requirement already satisfied: certifi>=2017.4.17 in /usr/local/lib/python3.7/dist-packages (from requests->fsspec[http]!=2021.06.0,>=2021.05.0->pytorch-lightning==1.6.0.dev0) (2021.10.8)\n",
            "Requirement already satisfied: chardet<4,>=3.0.2 in /usr/local/lib/python3.7/dist-packages (from requests->fsspec[http]!=2021.06.0,>=2021.05.0->pytorch-lightning==1.6.0.dev0) (3.0.4)\n",
            "Requirement already satisfied: idna<3,>=2.5 in /usr/local/lib/python3.7/dist-packages (from requests->fsspec[http]!=2021.06.0,>=2021.05.0->pytorch-lightning==1.6.0.dev0) (2.10)\n",
            "Requirement already satisfied: oauthlib>=3.0.0 in /usr/local/lib/python3.7/dist-packages (from requests-oauthlib>=0.7.0->google-auth-oauthlib<0.5,>=0.4.1->tensorboard>=2.2.0->pytorch-lightning==1.6.0.dev0) (3.1.1)\n",
            "Requirement already satisfied: frozenlist>=1.1.1 in /usr/local/lib/python3.7/dist-packages (from aiohttp->fsspec[http]!=2021.06.0,>=2021.05.0->pytorch-lightning==1.6.0.dev0) (1.3.0)\n",
            "Requirement already satisfied: yarl<2.0,>=1.0 in /usr/local/lib/python3.7/dist-packages (from aiohttp->fsspec[http]!=2021.06.0,>=2021.05.0->pytorch-lightning==1.6.0.dev0) (1.7.2)\n",
            "Requirement already satisfied: async-timeout<5.0,>=4.0.0a3 in /usr/local/lib/python3.7/dist-packages (from aiohttp->fsspec[http]!=2021.06.0,>=2021.05.0->pytorch-lightning==1.6.0.dev0) (4.0.2)\n",
            "Requirement already satisfied: attrs>=17.3.0 in /usr/local/lib/python3.7/dist-packages (from aiohttp->fsspec[http]!=2021.06.0,>=2021.05.0->pytorch-lightning==1.6.0.dev0) (21.4.0)\n",
            "Requirement already satisfied: multidict<7.0,>=4.5 in /usr/local/lib/python3.7/dist-packages (from aiohttp->fsspec[http]!=2021.06.0,>=2021.05.0->pytorch-lightning==1.6.0.dev0) (6.0.2)\n",
            "Requirement already satisfied: asynctest==0.13.0 in /usr/local/lib/python3.7/dist-packages (from aiohttp->fsspec[http]!=2021.06.0,>=2021.05.0->pytorch-lightning==1.6.0.dev0) (0.13.0)\n",
            "Requirement already satisfied: charset-normalizer<3.0,>=2.0 in /usr/local/lib/python3.7/dist-packages (from aiohttp->fsspec[http]!=2021.06.0,>=2021.05.0->pytorch-lightning==1.6.0.dev0) (2.0.10)\n",
            "Requirement already satisfied: aiosignal>=1.1.2 in /usr/local/lib/python3.7/dist-packages (from aiohttp->fsspec[http]!=2021.06.0,>=2021.05.0->pytorch-lightning==1.6.0.dev0) (1.2.0)\n"
          ]
        }
      ],
      "source": [
        "!pip install git+https://github.com/PyTorchLightning/pytorch-lightning"
      ]
    },
    {
      "cell_type": "code",
      "execution_count": null,
      "metadata": {
        "colab": {
          "base_uri": "https://localhost:8080/"
        },
        "id": "CQ4jHpduDluE",
        "outputId": "d75f72b4-f0af-4554-fa5e-989f84571214"
      },
      "outputs": [
        {
          "output_type": "stream",
          "name": "stdout",
          "text": [
            "/content/drive/MyDrive/assignment2\n"
          ]
        }
      ],
      "source": [
        "cd /content/drive/MyDrive/assignment2"
      ]
    },
    {
      "cell_type": "code",
      "execution_count": null,
      "metadata": {
        "id": "Dau6p1vYms0b"
      },
      "outputs": [],
      "source": [
        "import pandas as pd\n",
        "import numpy as np\n",
        "import matplotlib.pyplot as plt\n",
        "\n",
        "from sklearn.model_selection import train_test_split\n",
        "from sklearn.preprocessing import StandardScaler, MinMaxScaler\n",
        "\n",
        "import torch\n",
        "import torch.nn as nn\n",
        "from torch.utils.data import Dataset, DataLoader\n",
        "import pytorch_lightning as pl\n",
        "from pytorch_lightning import Trainer\n",
        "from pytorch_lightning.callbacks import Callback\n",
        "from pytorch_lightning.callbacks.early_stopping import EarlyStopping\n",
        "from pytorch_lightning.loggers.csv_logs import CSVLogger\n",
        "from torch.nn import functional as F\n",
        "from pytorch_lightning.loggers import NeptuneLogger\n",
        "import torchmetrics.functional as FM\n",
        "\n",
        "from pytorch_lightning import loggers as pl_loggers\n",
        "from pytorch_lightning.callbacks.base import Callback\n",
        "import tensorboard\n",
        "from pytorch_lightning.callbacks import ModelCheckpoint\n"
      ]
    },
    {
      "cell_type": "code",
      "execution_count": null,
      "metadata": {
        "id": "lLyUv1kiqyTo"
      },
      "outputs": [],
      "source": [
        "import pandas as pd\n",
        "import numpy as np\n",
        "import matplotlib.pyplot as plt\n",
        "\n",
        "from sklearn.model_selection import train_test_split\n",
        "from sklearn.preprocessing import StandardScaler, MinMaxScaler\n",
        "\n",
        "import torch\n",
        "import torch.nn as nn\n",
        "from torch.utils.data import Dataset, DataLoader\n",
        "import pytorch_lightning as pl\n",
        "from pytorch_lightning import Trainer\n",
        "from pytorch_lightning.callbacks import Callback\n",
        "from pytorch_lightning.callbacks.early_stopping import EarlyStopping\n",
        "from pytorch_lightning.loggers.csv_logs import CSVLogger\n",
        "from torch.nn import functional as F\n",
        "from pytorch_lightning.loggers import NeptuneLogger\n",
        "import torchmetrics.functional as FM\n",
        "\n",
        "from pytorch_lightning import loggers as pl_loggers\n",
        "from pytorch_lightning.callbacks.base import Callback\n"
      ]
    },
    {
      "cell_type": "code",
      "execution_count": null,
      "metadata": {
        "id": "ih3OcV_PrP1l"
      },
      "outputs": [],
      "source": [
        "import numpy as np\n",
        "import random\n",
        "import json\n",
        "import copy\n",
        "\n",
        "import torch\n",
        "import torch.nn as nn\n",
        "import torch.optim as optim\n",
        "from torch.utils.data import DataLoader, Dataset\n",
        "\n",
        "import glob\n",
        "\n",
        "from tqdm.notebook import tqdm"
      ]
    },
    {
      "cell_type": "code",
      "execution_count": null,
      "metadata": {
        "id": "G6I69kiIrVoJ"
      },
      "outputs": [],
      "source": [
        "random.seed(0)\n",
        "np.random.seed(0)\n",
        "torch.manual_seed(0)\n",
        "torch.cuda.manual_seed_all(0)\n",
        "torch.backends.cudnn.deterministic=True "
      ]
    },
    {
      "cell_type": "code",
      "execution_count": null,
      "metadata": {
        "id": "iY8Gnk7irKc_"
      },
      "outputs": [],
      "source": [
        "meta = json.load(open('./meta.json', 'r'))\n",
        "tokens = meta['tokens']\n",
        "num_token = len(tokens)\n",
        "num_user = meta['num_user']"
      ]
    },
    {
      "cell_type": "code",
      "execution_count": null,
      "metadata": {
        "id": "9y_IhsuVsboR"
      },
      "outputs": [],
      "source": [
        "train_data = json.load(open('./train.json', 'r'))\n",
        "valid_data = json.load(open('./valid.json', 'r'))\n",
        "s_idx = 0"
      ]
    },
    {
      "cell_type": "code",
      "execution_count": null,
      "metadata": {
        "colab": {
          "base_uri": "https://localhost:8080/"
        },
        "id": "lUPjlApmsLKr",
        "outputId": "9e8234a7-5ffe-4f1c-a217-e87f3a24dad2"
      },
      "outputs": [
        {
          "output_type": "stream",
          "name": "stdout",
          "text": [
            "60\n"
          ]
        }
      ],
      "source": [
        "train_datas =  []\n",
        "valid_datas =  []\n",
        "max_len = 0\n",
        "\n",
        "for i in range (len(train_data)):\n",
        "     train_datas.append(train_data[i])\n",
        "     max_len = max(len(train_data[i]['token_id']), max_len)\n",
        "     \n",
        "    \n",
        "for i in range (len(valid_data)):\n",
        "     valid_datas.append(valid_data[i])\n",
        "     max_len = max(len(train_data[i]['token_id']), max_len)\n",
        "     \n",
        "     \n",
        "print(max_len)\n"
      ]
    },
    {
      "cell_type": "code",
      "execution_count": null,
      "metadata": {
        "id": "H2XpgNqNsPVL"
      },
      "outputs": [],
      "source": [
        "class tweetDataset(Dataset):\n",
        "    def __init__(self, data,max_len):\n",
        "        self.data = data\n",
        "        self.number_of_tokens = 13369\n",
        "        self.max_len = max_len\n",
        "        \n",
        "    def __len__(self):\n",
        "        return len(self.data)\n",
        "    \n",
        "    def __getitem__(self, idx):\n",
        "        padding_name = [self.number_of_tokens-1 for _ in range(self.max_len)]\n",
        "        sample = self.data[idx]\n",
        "        curr_name =  sample[\"token_id\"]\n",
        "        padding_name[:len(curr_name)] = curr_name\n",
        "        sample = self.data[idx]\n",
        "        sample['token_id'] = torch.LongTensor(padding_name[:-1])\n",
        "        return sample"
      ]
    },
    {
      "cell_type": "code",
      "execution_count": null,
      "metadata": {
        "id": "Ss-C-PqbtA6K"
      },
      "outputs": [],
      "source": [
        "class Model(pl.LightningModule):\n",
        "    def __init__(self, num_token, num_user, embed_dim, rnn_dim, num_layers, dropout, batch_size=256, lr =1e-5):\n",
        "        super(Model, self).__init__()\n",
        "        self.save_hyperparameters()\n",
        "        self.num_token = num_token\n",
        "        self.num_user = num_user\n",
        "        self.embed_dim = embed_dim\n",
        "        self.rnn_dim = rnn_dim\n",
        "        self.num_layers = num_layers\n",
        "        self.embedding = nn.Embedding(num_token, embed_dim)\n",
        "        self.rnn = nn.LSTM(embed_dim, rnn_dim, num_layers=num_layers, batch_first=True,bidirectional = True)\n",
        "        self.out_linear = nn.Linear(rnn_dim*2, num_user)\n",
        "        self.dropout = nn.Dropout(0.3)\n",
        "        self.batch_size = batch_size\n",
        "        self.learning_rate = lr\n",
        "\n",
        "\n",
        "    def forward(self, token_id):\n",
        "        embed = self.embedding(token_id)\n",
        "        # embed = self.dropout(embed)\n",
        "        embed = self.dropout(embed)\n",
        "        out, _ = self.rnn(embed)\n",
        "        return self.out_linear(out[:, -1])\n",
        "\n",
        "    def training_step (self,train_batch,batch_idx):\n",
        "        x= train_batch['token_id']\n",
        "        y = train_batch['user_id']\n",
        "        y_pred = self.forward(x)\n",
        "        loss = F.cross_entropy(y_pred, y)\n",
        "        train_accuracy_b = FM.accuracy(y_pred, y)\n",
        "        self.log(\"train_loss\",loss)\n",
        "        self.log(\"train_acc\",train_accuracy_b )\n",
        "        return {'loss' : loss, 'y_pred' : y_pred, 'y_true' : y}\n",
        "      \n",
        "    def validation_step(self, val_batch, batch_idx):\n",
        "        x = val_batch['token_id']\n",
        "        y = val_batch['user_id']\n",
        "        y_pred = self.forward(x)\n",
        "        loss = F.cross_entropy(y_pred, y)\n",
        "        val_accuracy_b = FM.accuracy(y_pred, y)\n",
        "        self.log(\"valid_loss\",loss)\n",
        "        self.log(\"valid_acc\",val_accuracy_b )\n",
        "        return {'loss' : loss, 'y_pred' : y_pred, 'y_true' : y}\n",
        "\n",
        "    def test_step(self, test_batch, batch_idx):\n",
        "        x = test_batch['token_id']\n",
        "        y = test_batch['user_id']\n",
        "        y_pred = self.forward(x)\n",
        "        loss = F.cross_entropy(y_pred, y)\n",
        "        test_accuracy_b = FM.accuracy(y_pred, y)\n",
        "        self.log(\"valid_loss\",loss)\n",
        "        self.log(\"valid_acc\",test_accuracy_b )\n",
        "        return {'loss' : loss, 'y_pred' : y_pred, 'y_true' : y}\n",
        "    \n",
        "    def configure_optimizers(self):\n",
        "        lr = self.learning_rate\n",
        "        return optim.Adam(model.parameters(), lr= self.learning_rate, weight_decay=1e-9)\n",
        "    \n",
        "    def train_dataloader(self):\n",
        "        train_dataset = tweetDataset(train_datas,max_len)\n",
        "        train_dataloader = torch.utils.data.DataLoader(train_dataset, batch_size=self.batch_size, shuffle=True,num_workers=4)\n",
        "        return train_dataloader\n",
        "\n",
        "    def val_dataloader(self):\n",
        "        valid_dataset = tweetDataset(valid_datas,max_len)\n",
        "        valid_dataloader = torch.utils.data.DataLoader(valid_dataset, batch_size=self.batch_size, shuffle=True,num_workers=4)\n",
        "        return valid_dataloader\n",
        "\n",
        "    def test_dataloader(self):\n",
        "        test_dataset = tweetDataset(valid_datas, max_len)\n",
        "        test_dataloader = torch.utils.data.DataLoader(test_dataset, batch_size=self.batch_size,shuffle = True, num_workers=4)\n",
        "        return test_dataloader\n",
        "\n",
        "    #def training_epoch(self, outputs):\n",
        "      #self.log('Train_acc_epoch', accuracy, prog_bar=True)\n",
        "\n",
        "    \n",
        "    \n",
        "    \n",
        "    \n",
        " "
      ]
    },
    {
      "cell_type": "code",
      "execution_count": null,
      "metadata": {
        "id": "GvrUe6kNBPQj"
      },
      "outputs": [],
      "source": [
        "model = Model(num_token, num_user, embed_dim=512, rnn_dim=1024, dropout = 0.3 ,num_layers=1)"
      ]
    },
    {
      "cell_type": "code",
      "execution_count": null,
      "metadata": {
        "colab": {
          "base_uri": "https://localhost:8080/",
          "height": 596,
          "referenced_widgets": [
            "cfd09c93e8e34378861b00f9b3e29b9c",
            "59560a251be6499fb3c3a9a6251c8770",
            "85aa78bc8c40400b8c9860a4922e9391",
            "7d9dfed96f314389a2ee55ad189cee29",
            "46ef397e5b024547a7040ed757315b09",
            "9c8535e71ca74cf78f9dcb5f353fb244",
            "58a91213fa00406cabd3cc9a975296a1",
            "081c153358704c6fba98dfe7554e1370",
            "9851720076e74f1ab1106d4fb3d16e8a",
            "fe70095053e54d8da7c5581895f84462",
            "3ea85d0a27574e1cae1611ec90283fd2"
          ]
        },
        "id": "6hSJ8FmmC0IV",
        "outputId": "2bb41f84-f43d-4fb4-f5e6-0f52cdb5681a"
      },
      "outputs": [
        {
          "output_type": "stream",
          "name": "stderr",
          "text": [
            "GPU available: True, used: True\n",
            "TPU available: False, using: 0 TPU cores\n",
            "IPU available: False, using: 0 IPUs\n",
            "LOCAL_RANK: 0 - CUDA_VISIBLE_DEVICES: [0]\n",
            "/usr/local/lib/python3.7/dist-packages/pytorch_lightning/trainer/connectors/data_connector.py:542: PossibleUserWarning: Your `val_dataloader` has `shuffle=True`, it is strongly recommended that you turn this off for val/test/predict dataloaders.\n",
            "  category=PossibleUserWarning,\n",
            "/usr/local/lib/python3.7/dist-packages/pytorch_lightning/utilities/data.py:73: UserWarning: Trying to infer the `batch_size` from an ambiguous collection. The batch size we found is 256. To avoid any miscalculations, use `self.log(..., batch_size=batch_size)`.\n",
            "  \"Trying to infer the `batch_size` from an ambiguous collection. The batch size we\"\n",
            "/usr/local/lib/python3.7/dist-packages/pytorch_lightning/utilities/data.py:73: UserWarning: Trying to infer the `batch_size` from an ambiguous collection. The batch size we found is 100. To avoid any miscalculations, use `self.log(..., batch_size=batch_size)`.\n",
            "  \"Trying to infer the `batch_size` from an ambiguous collection. The batch size we\"\n",
            "/usr/local/lib/python3.7/dist-packages/pytorch_lightning/trainer/trainer.py:1841: PossibleUserWarning: The number of training samples (25) is smaller than the logging interval Trainer(log_every_n_steps=50). Set a lower value for log_every_n_steps if you want to see logs for the training epoch.\n",
            "  category=PossibleUserWarning,\n"
          ]
        },
        {
          "output_type": "display_data",
          "data": {
            "application/vnd.jupyter.widget-view+json": {
              "model_id": "cfd09c93e8e34378861b00f9b3e29b9c",
              "version_minor": 0,
              "version_major": 2
            },
            "text/plain": [
              "Finding best initial lr:   0%|          | 0/100 [00:00<?, ?it/s]"
            ]
          },
          "metadata": {}
        },
        {
          "output_type": "stream",
          "name": "stderr",
          "text": [
            "Restoring states from the checkpoint path at /content/drive/MyDrive/assignment2/.lr_find_4ad92857-88e3-4d27-903c-9eefec74c744.ckpt\n",
            "/usr/local/lib/python3.7/dist-packages/pytorch_lightning/trainer/trainer.py:1646: UserWarning: Be aware that when using `ckpt_path`, callbacks used to create the checkpoint need to be provided during `Trainer` instantiation. Please add the following callbacks: [\"ModelCheckpoint{'monitor': None, 'mode': 'min', 'every_n_train_steps': 0, 'every_n_epochs': 1, 'train_time_interval': None, 'save_on_train_epoch_end': None}\"].\n",
            "  \"Be aware that when using `ckpt_path`,\"\n"
          ]
        },
        {
          "output_type": "display_data",
          "data": {
            "image/png": "[encoded data removed]",
            "text/plain": [
              "<Figure size 432x288 with 1 Axes>"
            ]
          },
          "metadata": {
            "needs_background": "light"
          }
        }
      ],
      "source": [
        "trainer = Trainer(gpus=1,max_epochs = 1000)\n",
        "\n",
        "lr_finder = trainer.tuner.lr_find(model)\n",
        "\n",
        "# # Results can be found in\n",
        "lr_finder.results\n",
        "\n",
        "# Plot with\n",
        "fig = lr_finder.plot(suggest=True)\n",
        "fig.show()\n",
        "\n",
        "# Pick point based on plot, or get suggestion\n",
        "new_lr = lr_finder.suggestion()\n",
        "\n",
        "# # update hparams of the model\n",
        "model.hparams.lr = new_lr"
      ]
    },
    {
      "cell_type": "code",
      "execution_count": null,
      "metadata": {
        "colab": {
          "base_uri": "https://localhost:8080/"
        },
        "id": "cf4V1-TEpOlx",
        "outputId": "d04bcac2-e9e2-4162-b116-d398e4be77ba"
      },
      "outputs": [
        {
          "output_type": "execute_result",
          "data": {
            "text/plain": [
              "1.5848931924611133e-07"
            ]
          },
          "metadata": {},
          "execution_count": 15
        }
      ],
      "source": [
        "new_lr"
      ]
    },
    {
      "cell_type": "code",
      "execution_count": null,
      "metadata": {
        "colab": {
          "base_uri": "https://localhost:8080/"
        },
        "id": "OX79SD8RmxHG",
        "outputId": "6a846d88-c387-43bb-9692-32b69fcd5362"
      },
      "outputs": [
        {
          "output_type": "stream",
          "name": "stdout",
          "text": [
            "Number of parameters: 19460616\n",
            "[NOTE] Number of parameters SHOULD NOT exceed 20,000,000 (20 million).\n"
          ]
        }
      ],
      "source": [
        "num_param = sum(p.numel() for p in model.parameters())\n",
        "print('Number of parameters: {}'.format(num_param))\n",
        "print('[NOTE] Number of parameters SHOULD NOT exceed 20,000,000 (20 million).')"
      ]
    },
    {
      "cell_type": "code",
      "execution_count": null,
      "metadata": {
        "id": "YhPPOm6tveqo"
      },
      "outputs": [],
      "source": [
        "import tensorboard\n",
        "from pytorch_lightning.callbacks import ModelCheckpoint\n",
        "logger = pl_loggers.TensorBoardLogger(\"/content/drive/MyDrive/logs/\")"
      ]
    },
    {
      "cell_type": "code",
      "execution_count": null,
      "metadata": {
        "id": "LcOGTewr1e4F"
      },
      "outputs": [],
      "source": [
        "\n",
        "logger = pl_loggers.TensorBoardLogger(\"/content/drive/MyDrive/logs/\")\n",
        "\n",
        "\n",
        "checkpoint_callback = ModelCheckpoint(\n",
        "    dirpath = \"/content/drive/MyDrive/logs/\",\n",
        "    monitor=\"valid_acc\",\n",
        "    filename=\"best\",\n",
        "    #save_top_k=1,\n",
        "    every_n_epochs  = 10\n",
        ")\n",
        "\n",
        "\n",
        "\n",
        "\n",
        "trainer = pl.Trainer(gpus=1,auto_scale_batch_size ='binsearch' , log_every_n_steps=1, logger=logger, callbacks=[checkpoint_callback], max_epochs = 100000)\n",
        "\n",
        "torch.cuda.max_memory_allocated(device='cuda')\n",
        "torch.cuda.empty_cache()\n",
        "\n",
        "\n",
        "trainer.tune(model)\n",
        "trainer.fit(model)\n"
      ]
    },
    {
      "cell_type": "code",
      "execution_count": null,
      "metadata": {
        "id": "l5YEvwU-KAi5"
      },
      "outputs": [],
      "source": [
        "logger.log_graph(model)\n",
        "%load_ext tensorboard\n",
        "%tensorboard --logdir /content/drive/MyDrive/logs/"
      ]
    },
    {
      "cell_type": "markdown",
      "metadata": {
        "id": "ivbBG21N1bAg"
      },
      "source": [
        ""
      ]
    },
    {
      "cell_type": "code",
      "execution_count": null,
      "metadata": {
        "id": "IiF74aLCRU04"
      },
      "outputs": [],
      "source": [
        "trainer.test(ckpt_path=\"/content/drive/MyDrive/logs/best.ckpt\")"
      ]
    },
    {
      "cell_type": "code",
      "source": [
        ""
      ],
      "metadata": {
        "id": "SyYXVrS3gA-7"
      },
      "execution_count": null,
      "outputs": []
    },
    {
      "cell_type": "code",
      "source": [
        "from google.colab import drive\n",
        "drive.mount('/content/drive')\n"
      ],
      "metadata": {
        "id": "Accta3tzXCBI"
      },
      "execution_count": null,
      "outputs": []
    },
    {
      "cell_type": "code",
      "source": [
        "cd /content/drive/MyDrive/assignment2"
      ],
      "metadata": {
        "id": "600dsxHOgDSB"
      },
      "execution_count": null,
      "outputs": []
    },
    {
      "cell_type": "code",
      "source": [
        "!pip install git+https://github.com/PyTorchLightning/pytorch-lightning"
      ],
      "metadata": {
        "id": "R6JIgBgpXFRl"
      },
      "execution_count": null,
      "outputs": []
    },
    {
      "cell_type": "code",
      "execution_count": null,
      "metadata": {
        "id": "yTee5UNX3hsc"
      },
      "outputs": [],
      "source": [
        "import pandas as pd\n",
        "import numpy as np\n",
        "import matplotlib.pyplot as plt\n",
        "\n",
        "from sklearn.model_selection import train_test_split\n",
        "from sklearn.preprocessing import StandardScaler, MinMaxScaler\n",
        "\n",
        "import torch\n",
        "import torch.nn as nn\n",
        "from torch.utils.data import Dataset, DataLoader\n",
        "import pytorch_lightning as pl\n",
        "from pytorch_lightning import Trainer\n",
        "from pytorch_lightning.callbacks import Callback\n",
        "from pytorch_lightning.callbacks.early_stopping import EarlyStopping\n",
        "from pytorch_lightning.loggers.csv_logs import CSVLogger\n",
        "from torch.nn import functional as F\n",
        "from pytorch_lightning.loggers import NeptuneLogger\n",
        "import torchmetrics.functional as FM\n",
        "\n",
        "from pytorch_lightning import loggers as pl_loggers\n",
        "from pytorch_lightning.callbacks.base import Callback\n",
        "import numpy as np\n",
        "import random\n",
        "import json\n",
        "import copy\n",
        "\n",
        "import torch\n",
        "import torch.nn as nn\n",
        "import torch.optim as optim\n",
        "from torch.utils.data import DataLoader, Dataset\n",
        "\n",
        "import glob\n",
        "\n",
        "from tqdm.notebook import tqdm\n",
        "import tensorboard\n",
        "from pytorch_lightning.callbacks import ModelCheckpoint"
      ]
    },
    {
      "cell_type": "code",
      "source": [
        "import tensorboard\n",
        "from pytorch_lightning.callbacks import ModelCheckpoint\n",
        "logger = pl_loggers.TensorBoardLogger(\"/content/drive/MyDrive/logs/\")"
      ],
      "metadata": {
        "id": "ICBqzfkOds96"
      },
      "execution_count": null,
      "outputs": []
    },
    {
      "cell_type": "code",
      "source": [
        "meta = json.load(open('./meta.json', 'r'))\n",
        "tokens = meta['tokens']\n",
        "num_token = len(tokens)\n",
        "num_user = meta['num_user']\n",
        "\n",
        "train_data = json.load(open('./train.json', 'r'))\n",
        "valid_data = json.load(open('./valid.json', 'r'))\n",
        "s_idx = 0\n",
        "train_data = json.load(open('./train.json', 'r'))\n",
        "valid_data = json.load(open('./valid.json', 'r'))\n",
        "s_idx = 0"
      ],
      "metadata": {
        "id": "nxv5sukWfuHz"
      },
      "execution_count": null,
      "outputs": []
    },
    {
      "cell_type": "code",
      "execution_count": null,
      "metadata": {
        "id": "Cb9fl2vUglBx"
      },
      "outputs": [],
      "source": [
        "train_datas =  []\n",
        "valid_datas =  []\n",
        "max_len = 0\n",
        "\n",
        "for i in range (len(train_data)):\n",
        "     train_datas.append(train_data[i])\n",
        "     max_len = max(len(train_data[i]['token_id']), max_len)\n",
        "     \n",
        "    \n",
        "for i in range (len(valid_data)):\n",
        "     valid_datas.append(valid_data[i])\n",
        "     max_len = max(len(train_data[i]['token_id']), max_len)\n",
        "     \n",
        "     \n",
        "print(max_len)\n"
      ]
    },
    {
      "cell_type": "code",
      "source": [
        "class tweetDataset(Dataset):\n",
        "    def __init__(self, data,max_len):\n",
        "        self.data = data\n",
        "        self.number_of_tokens = 13369\n",
        "        self.max_len = max_len\n",
        "        \n",
        "    def __len__(self):\n",
        "        return len(self.data)\n",
        "    \n",
        "    def __getitem__(self, idx):\n",
        "        padding_name = [self.number_of_tokens-1 for _ in range(self.max_len)]\n",
        "        sample = self.data[idx]\n",
        "        curr_name =  sample[\"token_id\"]\n",
        "        padding_name[:len(curr_name)] = curr_name\n",
        "        sample = self.data[idx]\n",
        "        sample['token_id'] = torch.LongTensor(padding_name[:-1])\n",
        "        return sample"
      ],
      "metadata": {
        "id": "xlBlGKHqfle3"
      },
      "execution_count": null,
      "outputs": []
    },
    {
      "cell_type": "code",
      "execution_count": null,
      "metadata": {
        "id": "6qejsvNUdtHa"
      },
      "outputs": [],
      "source": [
        "class Model(pl.LightningModule):\n",
        "    def __init__(self, num_token, num_user, embed_dim, rnn_dim, num_layers, dropout, batch_size=256, lr =1e-5):\n",
        "        super(Model, self).__init__()\n",
        "        self.save_hyperparameters()\n",
        "        self.num_token = num_token\n",
        "        self.num_user = num_user\n",
        "        self.embed_dim = embed_dim\n",
        "        self.rnn_dim = rnn_dim\n",
        "        self.num_layers = num_layers\n",
        "        self.embedding = nn.Embedding(num_token, embed_dim)\n",
        "        self.rnn = nn.LSTM(embed_dim, rnn_dim, num_layers=num_layers, batch_first=True,bidirectional = True)\n",
        "        self.out_linear = nn.Linear(rnn_dim*2, num_user)\n",
        "        self.dropout = nn.Dropout(0.3)\n",
        "        self.batch_size = batch_size\n",
        "        self.learning_rate = lr\n",
        "\n",
        "\n",
        "    def forward(self, token_id):\n",
        "        embed = self.embedding(token_id)\n",
        "        # embed = self.dropout(embed)\n",
        "        embed = self.dropout(embed)\n",
        "        out, _ = self.rnn(embed)\n",
        "        return self.out_linear(out[:, -1])\n",
        "\n",
        "    def training_step (self,train_batch,batch_idx):\n",
        "        x= train_batch['token_id']\n",
        "        y = train_batch['user_id']\n",
        "        y_pred = self.forward(x)\n",
        "        loss = F.cross_entropy(y_pred, y)\n",
        "        train_accuracy_b = FM.accuracy(y_pred, y)\n",
        "        self.log(\"train_loss\",loss)\n",
        "        self.log(\"train_acc\",train_accuracy_b )\n",
        "        return {'loss' : loss, 'y_pred' : y_pred, 'y_true' : y}\n",
        "      \n",
        "    def validation_step(self, val_batch, batch_idx):\n",
        "        x = val_batch['token_id']\n",
        "        y = val_batch['user_id']\n",
        "        y_pred = self.forward(x)\n",
        "        loss = F.cross_entropy(y_pred, y)\n",
        "        val_accuracy_b = FM.accuracy(y_pred, y)\n",
        "        self.log(\"valid_loss\",loss)\n",
        "        self.log(\"valid_acc\",val_accuracy_b )\n",
        "        return {'loss' : loss, 'y_pred' : y_pred, 'y_true' : y}\n",
        "\n",
        "    def test_step(self, test_batch, batch_idx):\n",
        "        x = test_batch['token_id']\n",
        "        y = test_batch['user_id']\n",
        "        y_pred = self.forward(x)\n",
        "        loss = F.cross_entropy(y_pred, y)\n",
        "        test_accuracy_b = FM.accuracy(y_pred, y)\n",
        "        self.log(\"valid_loss\",loss)\n",
        "        self.log(\"valid_acc\",test_accuracy_b )\n",
        "        return {'loss' : loss, 'y_pred' : y_pred, 'y_true' : y}\n",
        "    \n",
        "    def configure_optimizers(self):\n",
        "        lr = self.learning_rate\n",
        "        return optim.Adam(model.parameters(), lr= self.learning_rate, weight_decay=1e-9)\n",
        "    \n",
        "    def train_dataloader(self):\n",
        "        train_dataset = tweetDataset(train_datas,max_len)\n",
        "        train_dataloader = torch.utils.data.DataLoader(train_dataset, batch_size=self.batch_size, shuffle=True,num_workers=4)\n",
        "        return train_dataloader\n",
        "\n",
        "    def val_dataloader(self):\n",
        "        valid_dataset = tweetDataset(valid_datas,max_len)\n",
        "        valid_dataloader = torch.utils.data.DataLoader(valid_dataset, batch_size=self.batch_size, shuffle=True,num_workers=4)\n",
        "        return valid_dataloader\n",
        "\n",
        "    def test_dataloader(self):\n",
        "        test_dataset = tweetDataset(valid_datas, max_len)\n",
        "        test_dataloader = torch.utils.data.DataLoader(test_dataset, batch_size=self.batch_size,shuffle = True, num_workers=4)\n",
        "        return test_dataloader\n",
        "\n",
        "    #def training_epoch(self, outputs):\n",
        "      #self.log('Train_acc_epoch', accuracy, prog_bar=True)\n",
        "\n",
        "    \n",
        "    \n",
        "    \n",
        "    \n",
        " "
      ]
    },
    {
      "cell_type": "code",
      "execution_count": null,
      "metadata": {
        "id": "QZ-ILGW-3egL"
      },
      "outputs": [],
      "source": [
        "\n",
        "\n",
        "\n",
        "logger = pl_loggers.TensorBoardLogger(\"/content/drive/MyDrive/logs/\")\n",
        "\n",
        "\n",
        "checkpoint_callback = ModelCheckpoint(\n",
        "    dirpath = \"/content/drive/MyDrive/logs/\",\n",
        "    monitor=\"valid_acc\",\n",
        "    filename=\"best_repeat1\",\n",
        "    #save_top_k=1,\n",
        "    every_n_epochs  = 10\n",
        ")\n",
        "batch_size = 256\n",
        "dropout= 0.3\n",
        "embed_dim= 512\n",
        "lr= 1.0e-05\n",
        "num_layers= 1\n",
        "num_token= 13369\n",
        "num_user= 8\n",
        "rnn_dim=1024\n",
        "\n",
        "model = Model(num_token, num_user, embed_dim=512, rnn_dim=1024, dropout = 0.3 , num_layers=1  , batch_size =batch_size ,lr =lr)\n",
        "model = Model.load_from_checkpoint(\"/content/drive/MyDrive/logs/best.ckpt\")\n",
        "\n",
        "trainer = pl.Trainer(gpus=1 , log_every_n_steps=1, logger=logger, callbacks=[checkpoint_callback], max_epochs = 100000)\n",
        "trainer.fit(model)"
      ]
    },
    {
      "cell_type": "markdown",
      "source": [
        ""
      ],
      "metadata": {
        "id": "J5uB46MNdgGG"
      }
    }
  ],
  "metadata": {
    "accelerator": "GPU",
    "colab": {
      "collapsed_sections": [],
      "machine_shape": "hm",
      "name": "batuproje",
      "provenance": [],
      "include_colab_link": true
    },
    "kernelspec": {
      "display_name": "Python 3",
      "name": "python3"
    },
    "language_info": {
      "name": "python"
    },
    "widgets": {
      "application/vnd.jupyter.widget-state+json": {
        "cfd09c93e8e34378861b00f9b3e29b9c": {
          "model_module": "@jupyter-widgets/controls",
          "model_name": "HBoxModel",
          "model_module_version": "1.5.0",
          "state": {
            "_view_name": "HBoxView",
            "_dom_classes": [],
            "_model_name": "HBoxModel",
            "_view_module": "@jupyter-widgets/controls",
            "_model_module_version": "1.5.0",
            "_view_count": null,
            "_view_module_version": "1.5.0",
            "box_style": "",
            "layout": "IPY_MODEL_59560a251be6499fb3c3a9a6251c8770",
            "_model_module": "@jupyter-widgets/controls",
            "children": [
              "IPY_MODEL_85aa78bc8c40400b8c9860a4922e9391",
              "IPY_MODEL_7d9dfed96f314389a2ee55ad189cee29",
              "IPY_MODEL_46ef397e5b024547a7040ed757315b09"
            ]
          }
        },
        "59560a251be6499fb3c3a9a6251c8770": {
          "model_module": "@jupyter-widgets/base",
          "model_name": "LayoutModel",
          "model_module_version": "1.2.0",
          "state": {
            "_view_name": "LayoutView",
            "grid_template_rows": null,
            "right": null,
            "justify_content": null,
            "_view_module": "@jupyter-widgets/base",
            "overflow": null,
            "_model_module_version": "1.2.0",
            "_view_count": null,
            "flex_flow": null,
            "width": null,
            "min_width": null,
            "border": null,
            "align_items": null,
            "bottom": null,
            "_model_module": "@jupyter-widgets/base",
            "top": null,
            "grid_column": null,
            "overflow_y": null,
            "overflow_x": null,
            "grid_auto_flow": null,
            "grid_area": null,
            "grid_template_columns": null,
            "flex": null,
            "_model_name": "LayoutModel",
            "justify_items": null,
            "grid_row": null,
            "max_height": null,
            "align_content": null,
            "visibility": null,
            "align_self": null,
            "height": null,
            "min_height": null,
            "padding": null,
            "grid_auto_rows": null,
            "grid_gap": null,
            "max_width": null,
            "order": null,
            "_view_module_version": "1.2.0",
            "grid_template_areas": null,
            "object_position": null,
            "object_fit": null,
            "grid_auto_columns": null,
            "margin": null,
            "display": null,
            "left": null
          }
        },
        "85aa78bc8c40400b8c9860a4922e9391": {
          "model_module": "@jupyter-widgets/controls",
          "model_name": "HTMLModel",
          "model_module_version": "1.5.0",
          "state": {
            "_view_name": "HTMLView",
            "style": "IPY_MODEL_9c8535e71ca74cf78f9dcb5f353fb244",
            "_dom_classes": [],
            "description": "",
            "_model_name": "HTMLModel",
            "placeholder": "​",
            "_view_module": "@jupyter-widgets/controls",
            "_model_module_version": "1.5.0",
            "value": "Finding best initial lr: 100%",
            "_view_count": null,
            "_view_module_version": "1.5.0",
            "description_tooltip": null,
            "_model_module": "@jupyter-widgets/controls",
            "layout": "IPY_MODEL_58a91213fa00406cabd3cc9a975296a1"
          }
        },
        "7d9dfed96f314389a2ee55ad189cee29": {
          "model_module": "@jupyter-widgets/controls",
          "model_name": "FloatProgressModel",
          "model_module_version": "1.5.0",
          "state": {
            "_view_name": "ProgressView",
            "style": "IPY_MODEL_081c153358704c6fba98dfe7554e1370",
            "_dom_classes": [],
            "description": "",
            "_model_name": "FloatProgressModel",
            "bar_style": "success",
            "max": 100,
            "_view_module": "@jupyter-widgets/controls",
            "_model_module_version": "1.5.0",
            "value": 100,
            "_view_count": null,
            "_view_module_version": "1.5.0",
            "orientation": "horizontal",
            "min": 0,
            "description_tooltip": null,
            "_model_module": "@jupyter-widgets/controls",
            "layout": "IPY_MODEL_9851720076e74f1ab1106d4fb3d16e8a"
          }
        },
        "46ef397e5b024547a7040ed757315b09": {
          "model_module": "@jupyter-widgets/controls",
          "model_name": "HTMLModel",
          "model_module_version": "1.5.0",
          "state": {
            "_view_name": "HTMLView",
            "style": "IPY_MODEL_fe70095053e54d8da7c5581895f84462",
            "_dom_classes": [],
            "description": "",
            "_model_name": "HTMLModel",
            "placeholder": "​",
            "_view_module": "@jupyter-widgets/controls",
            "_model_module_version": "1.5.0",
            "value": " 100/100 [00:20&lt;00:00,  5.39it/s]",
            "_view_count": null,
            "_view_module_version": "1.5.0",
            "description_tooltip": null,
            "_model_module": "@jupyter-widgets/controls",
            "layout": "IPY_MODEL_3ea85d0a27574e1cae1611ec90283fd2"
          }
        },
        "9c8535e71ca74cf78f9dcb5f353fb244": {
          "model_module": "@jupyter-widgets/controls",
          "model_name": "DescriptionStyleModel",
          "model_module_version": "1.5.0",
          "state": {
            "_view_name": "StyleView",
            "_model_name": "DescriptionStyleModel",
            "description_width": "",
            "_view_module": "@jupyter-widgets/base",
            "_model_module_version": "1.5.0",
            "_view_count": null,
            "_view_module_version": "1.2.0",
            "_model_module": "@jupyter-widgets/controls"
          }
        },
        "58a91213fa00406cabd3cc9a975296a1": {
          "model_module": "@jupyter-widgets/base",
          "model_name": "LayoutModel",
          "model_module_version": "1.2.0",
          "state": {
            "_view_name": "LayoutView",
            "grid_template_rows": null,
            "right": null,
            "justify_content": null,
            "_view_module": "@jupyter-widgets/base",
            "overflow": null,
            "_model_module_version": "1.2.0",
            "_view_count": null,
            "flex_flow": null,
            "width": null,
            "min_width": null,
            "border": null,
            "align_items": null,
            "bottom": null,
            "_model_module": "@jupyter-widgets/base",
            "top": null,
            "grid_column": null,
            "overflow_y": null,
            "overflow_x": null,
            "grid_auto_flow": null,
            "grid_area": null,
            "grid_template_columns": null,
            "flex": null,
            "_model_name": "LayoutModel",
            "justify_items": null,
            "grid_row": null,
            "max_height": null,
            "align_content": null,
            "visibility": null,
            "align_self": null,
            "height": null,
            "min_height": null,
            "padding": null,
            "grid_auto_rows": null,
            "grid_gap": null,
            "max_width": null,
            "order": null,
            "_view_module_version": "1.2.0",
            "grid_template_areas": null,
            "object_position": null,
            "object_fit": null,
            "grid_auto_columns": null,
            "margin": null,
            "display": null,
            "left": null
          }
        },
        "081c153358704c6fba98dfe7554e1370": {
          "model_module": "@jupyter-widgets/controls",
          "model_name": "ProgressStyleModel",
          "model_module_version": "1.5.0",
          "state": {
            "_view_name": "StyleView",
            "_model_name": "ProgressStyleModel",
            "description_width": "",
            "_view_module": "@jupyter-widgets/base",
            "_model_module_version": "1.5.0",
            "_view_count": null,
            "_view_module_version": "1.2.0",
            "bar_color": null,
            "_model_module": "@jupyter-widgets/controls"
          }
        },
        "9851720076e74f1ab1106d4fb3d16e8a": {
          "model_module": "@jupyter-widgets/base",
          "model_name": "LayoutModel",
          "model_module_version": "1.2.0",
          "state": {
            "_view_name": "LayoutView",
            "grid_template_rows": null,
            "right": null,
            "justify_content": null,
            "_view_module": "@jupyter-widgets/base",
            "overflow": null,
            "_model_module_version": "1.2.0",
            "_view_count": null,
            "flex_flow": null,
            "width": null,
            "min_width": null,
            "border": null,
            "align_items": null,
            "bottom": null,
            "_model_module": "@jupyter-widgets/base",
            "top": null,
            "grid_column": null,
            "overflow_y": null,
            "overflow_x": null,
            "grid_auto_flow": null,
            "grid_area": null,
            "grid_template_columns": null,
            "flex": null,
            "_model_name": "LayoutModel",
            "justify_items": null,
            "grid_row": null,
            "max_height": null,
            "align_content": null,
            "visibility": null,
            "align_self": null,
            "height": null,
            "min_height": null,
            "padding": null,
            "grid_auto_rows": null,
            "grid_gap": null,
            "max_width": null,
            "order": null,
            "_view_module_version": "1.2.0",
            "grid_template_areas": null,
            "object_position": null,
            "object_fit": null,
            "grid_auto_columns": null,
            "margin": null,
            "display": null,
            "left": null
          }
        },
        "fe70095053e54d8da7c5581895f84462": {
          "model_module": "@jupyter-widgets/controls",
          "model_name": "DescriptionStyleModel",
          "model_module_version": "1.5.0",
          "state": {
            "_view_name": "StyleView",
            "_model_name": "DescriptionStyleModel",
            "description_width": "",
            "_view_module": "@jupyter-widgets/base",
            "_model_module_version": "1.5.0",
            "_view_count": null,
            "_view_module_version": "1.2.0",
            "_model_module": "@jupyter-widgets/controls"
          }
        },
        "3ea85d0a27574e1cae1611ec90283fd2": {
          "model_module": "@jupyter-widgets/base",
          "model_name": "LayoutModel",
          "model_module_version": "1.2.0",
          "state": {
            "_view_name": "LayoutView",
            "grid_template_rows": null,
            "right": null,
            "justify_content": null,
            "_view_module": "@jupyter-widgets/base",
            "overflow": null,
            "_model_module_version": "1.2.0",
            "_view_count": null,
            "flex_flow": null,
            "width": null,
            "min_width": null,
            "border": null,
            "align_items": null,
            "bottom": null,
            "_model_module": "@jupyter-widgets/base",
            "top": null,
            "grid_column": null,
            "overflow_y": null,
            "overflow_x": null,
            "grid_auto_flow": null,
            "grid_area": null,
            "grid_template_columns": null,
            "flex": null,
            "_model_name": "LayoutModel",
            "justify_items": null,
            "grid_row": null,
            "max_height": null,
            "align_content": null,
            "visibility": null,
            "align_self": null,
            "height": null,
            "min_height": null,
            "padding": null,
            "grid_auto_rows": null,
            "grid_gap": null,
            "max_width": null,
            "order": null,
            "_view_module_version": "1.2.0",
            "grid_template_areas": null,
            "object_position": null,
            "object_fit": null,
            "grid_auto_columns": null,
            "margin": null,
            "display": null,
            "left": null
          }
        }
      }
    }
  },
  "nbformat": 4,
  "nbformat_minor": 0
}